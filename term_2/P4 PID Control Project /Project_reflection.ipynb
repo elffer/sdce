{
 "cells": [
  {
   "cell_type": "markdown",
   "metadata": {},
   "source": [
    "# Project Reflection\n",
    "\n",
    "This note is to summarize the essential works in the project, as required by the rubic.\n",
    "\n",
    "## Compilation\n",
    "\n",
    "* The code can be compiled and the PID controller can control the vehicle to drive well along the track.\n",
    "\n",
    "## Implementation\n",
    "\n",
    "* The algorithm of the PID procedure follows the function taught by the course, i.e., $$steering = -\\tau_{p}*cte - \\tau_{d}*diff\\_cte -\\tau_{i}*int\\_cte.$$\n",
    "* I had also applied the PID procedure on the throttle according to the relation between cross track error and the throttle. However, I set $int\\_cte = 0.9 * int\\_cte + cte$ to update $int\\_cte$, that is reducing the impact of earlier cross track errors. This was applied to reduce the speed when the error is positive or negative with large absolute value. The related codes are included in the PID::CalcValue() and PID::CalcValue_throttle() in PID.cpp.\n",
    "\n",
    "## Reflection\n",
    "\n",
    "### Effect of P, I, D components\n",
    "* The proportional part output a value that is propotional to the cross track error. It provides the primary contribution in reducing the error, while it might cause ocillation if the proportional gain is too high, or slow response if th propotional gain is too small.\n",
    "* The integration part is applied to eliminate the stady-state error. It is proportional to both the magnitude and the duration of the cross track error.\n",
    "* The derivation part is applied to reduce the inertial in the oscillation. It improves the stability of the system.\n",
    "\n",
    "### Tuning of the parameters\n",
    "\n",
    "* The hyperparameters of P, I, D were chosen through manual tuning, similar to the twiddle while with larger steps.\n",
    "* Moreover the hyperparameters of max throttle and its PID controller are also tuned, to increase the circling speed while keeping the driving safe.\n",
    "\n",
    "## Simulation\n",
    "\n",
    "* The vehicle can successfully drive around the track.\n",
    "\n",
    "## Future works\n",
    "\n",
    "* I have grasped the knowledge about tuning the hyperparameters of PID procedure with twiddle, while not finish it yet due to my time limit."
   ]
  }
 ],
 "metadata": {
  "kernelspec": {
   "display_name": "Python [conda env:autonomous_keras_gpu]",
   "language": "python",
   "name": "conda-env-autonomous_keras_gpu-py"
  },
  "language_info": {
   "codemirror_mode": {
    "name": "ipython",
    "version": 3
   },
   "file_extension": ".py",
   "mimetype": "text/x-python",
   "name": "python",
   "nbconvert_exporter": "python",
   "pygments_lexer": "ipython3",
   "version": "3.5.5"
  }
 },
 "nbformat": 4,
 "nbformat_minor": 2
}
